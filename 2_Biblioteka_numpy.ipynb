{
  "nbformat": 4,
  "nbformat_minor": 0,
  "metadata": {
    "colab": {
      "provenance": [],
      "authorship_tag": "ABX9TyPiiyfdB0lVdrrR5sbm1X7l",
      "include_colab_link": true
    },
    "kernelspec": {
      "name": "python3",
      "display_name": "Python 3"
    },
    "language_info": {
      "name": "python"
    }
  },
  "cells": [
    {
      "cell_type": "markdown",
      "metadata": {
        "id": "view-in-github",
        "colab_type": "text"
      },
      "source": [
        "<a href=\"https://colab.research.google.com/github/Rozmarynka19/kursAI-sb10/blob/main/2_Biblioteka_numpy.ipynb\" target=\"_parent\"><img src=\"https://colab.research.google.com/assets/colab-badge.svg\" alt=\"Open In Colab\"/></a>"
      ]
    },
    {
      "cell_type": "code",
      "execution_count": 1,
      "metadata": {
        "colab": {
          "base_uri": "https://localhost:8080/"
        },
        "id": "69sysNOQJAFz",
        "outputId": "72b3f2c5-28b5-4577-cd6e-28f14a5fa7fe"
      },
      "outputs": [
        {
          "output_type": "stream",
          "name": "stdout",
          "text": [
            "Python 3.11.11\n"
          ]
        }
      ],
      "source": [
        "!python --version"
      ]
    },
    {
      "cell_type": "code",
      "source": [
        "!pip freeze | grep numpy"
      ],
      "metadata": {
        "colab": {
          "base_uri": "https://localhost:8080/"
        },
        "id": "vCSoZB1JKp3J",
        "outputId": "86b48b1f-49d5-4474-d74c-a74ac28ddc27"
      },
      "execution_count": 4,
      "outputs": [
        {
          "output_type": "stream",
          "name": "stdout",
          "text": [
            "numpy==1.26.4\n"
          ]
        }
      ]
    },
    {
      "cell_type": "code",
      "source": [
        "# wazne - importowanie bibl. numpy\n",
        "import numpy as np\n",
        "\n",
        "# tworzenie tablicy\n",
        "array = np.array([1,2,3,4,5,6,7,8,9,10,11,12])\n",
        "print(array)\n",
        "print(f\"Kształt tablicy: {np.shape(array)}\")\n",
        "\n",
        "array2x6 = array.reshape(2,6)\n",
        "print(\"Array 2x6\")\n",
        "print(array2x6)\n",
        "print(f\"Array 2x6 - kształt {np.shape(array2x6)}\")"
      ],
      "metadata": {
        "colab": {
          "base_uri": "https://localhost:8080/"
        },
        "id": "xhrKrMwgMG4F",
        "outputId": "d302c703-8521-41fb-98f9-84cafa729049"
      },
      "execution_count": 10,
      "outputs": [
        {
          "output_type": "stream",
          "name": "stdout",
          "text": [
            "[ 1  2  3  4  5  6  7  8  9 10 11 12]\n",
            "Kształt tablicy: (12,)\n",
            "Array 2x6\n",
            "[[ 1  2  3  4  5  6]\n",
            " [ 7  8  9 10 11 12]]\n",
            "Array 2x6 - kształt (2, 6)\n"
          ]
        }
      ]
    },
    {
      "cell_type": "code",
      "source": [
        "# Zadanie: zmień kształt array na (3,4)\n",
        "array3x4 = array.reshape(3,4)\n",
        "print(\"Array 3x4\")\n",
        "print(array3x4)\n",
        "print(f\"Array 3x4 - kształt {np.shape(array3x4)}\")"
      ],
      "metadata": {
        "colab": {
          "base_uri": "https://localhost:8080/"
        },
        "id": "w-gnrD3SNHPA",
        "outputId": "ecfa0dab-2f16-4763-eb60-f00ccfd7eeff"
      },
      "execution_count": 11,
      "outputs": [
        {
          "output_type": "stream",
          "name": "stdout",
          "text": [
            "Array 3x4\n",
            "[[ 1  2  3  4]\n",
            " [ 5  6  7  8]\n",
            " [ 9 10 11 12]]\n",
            "Array 3x4 - kształt (3, 4)\n"
          ]
        }
      ]
    },
    {
      "cell_type": "code",
      "source": [
        "# Zadanie: zmień kształt array na (2,2,3)\n",
        "array2x2x3 = array.reshape(2,2,3)\n",
        "print(array2x2x3)\n",
        "print(f\"Kształt {np.shape(array2x2x3)}\")"
      ],
      "metadata": {
        "colab": {
          "base_uri": "https://localhost:8080/"
        },
        "id": "onWTRtGXOqgr",
        "outputId": "45634683-9f02-4ea7-bede-b28d85d25514"
      },
      "execution_count": 13,
      "outputs": [
        {
          "output_type": "stream",
          "name": "stdout",
          "text": [
            "[[[ 1  2  3]\n",
            "  [ 4  5  6]]\n",
            "\n",
            " [[ 7  8  9]\n",
            "  [10 11 12]]]\n",
            "Kształt (2, 2, 3)\n"
          ]
        }
      ]
    },
    {
      "cell_type": "code",
      "source": [
        "array2 = np.array([1,2,3,4,5,6,7,8,9,10])\n",
        "\n",
        "zagadka = array.reshape(-1,3)\n",
        "print(zagadka)\n",
        "print(f\"Kształt: {np.shape(zagadka)}\")"
      ],
      "metadata": {
        "colab": {
          "base_uri": "https://localhost:8080/"
        },
        "id": "h3EYTMJ8O6Tj",
        "outputId": "35f211de-9c1d-4b96-b9ad-12dba10471b6"
      },
      "execution_count": 17,
      "outputs": [
        {
          "output_type": "stream",
          "name": "stdout",
          "text": [
            "[[ 1  2  3]\n",
            " [ 4  5  6]\n",
            " [ 7  8  9]\n",
            " [10 11 12]]\n",
            "Kształt: (4, 3)\n"
          ]
        }
      ]
    },
    {
      "cell_type": "code",
      "source": [
        "unsorted1D = np.array([3,6,2,4])\n",
        "print(unsorted1D)\n",
        "sorted1D = np.sort(unsorted1D)\n",
        "print(sorted1D)"
      ],
      "metadata": {
        "colab": {
          "base_uri": "https://localhost:8080/"
        },
        "id": "fPO6MBRJP2mB",
        "outputId": "a2c4c6f5-6975-43c3-b278-fa0b7535fc6d"
      },
      "execution_count": 19,
      "outputs": [
        {
          "output_type": "stream",
          "name": "stdout",
          "text": [
            "[3 6 2 4]\n",
            "[2 3 4 6]\n"
          ]
        }
      ]
    },
    {
      "cell_type": "code",
      "source": [
        "unsorted2D = np.array([[7,2,9],\n",
        "                       [4,8,1],\n",
        "                       [5,6,3]])\n",
        "print(unsorted2D)\n",
        "\n",
        "# TODO: axis=0 - sortowanie po wierszach/kolumnach\n",
        "sorted2D_axis0 = np.sort(unsorted2D, axis=0)\n",
        "print(f\"Tablica posortowania wzdłuż osi 0:\\n{sorted2D_axis0}\")\n",
        "\n",
        "# TODO: axis=1 - sortowanie po wierszach/kolumnach\n",
        "sorted2D_axis1 = np.sort(unsorted2D, axis=1)\n",
        "print(f\"Tablica posortowania wzdłuż osi 1:\\n{sorted2D_axis1}\")"
      ],
      "metadata": {
        "colab": {
          "base_uri": "https://localhost:8080/"
        },
        "id": "n9FBZjuwQY6r",
        "outputId": "af06c444-cbb3-4ce8-862b-25490b876d3d"
      },
      "execution_count": 22,
      "outputs": [
        {
          "output_type": "stream",
          "name": "stdout",
          "text": [
            "[[7 2 9]\n",
            " [4 8 1]\n",
            " [5 6 3]]\n",
            "Tablica posortowania wzdłuż osi 0:\n",
            "[[4 2 1]\n",
            " [5 6 3]\n",
            " [7 8 9]]\n",
            "Tablica posortowania wzdłuż osi 1:\n",
            "[[2 7 9]\n",
            " [1 4 8]\n",
            " [3 5 6]]\n"
          ]
        }
      ]
    }
  ]
}