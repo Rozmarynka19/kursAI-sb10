{
  "nbformat": 4,
  "nbformat_minor": 0,
  "metadata": {
    "colab": {
      "provenance": [],
      "authorship_tag": "ABX9TyM6dHxSrOXC9hhzrC08zlY2",
      "include_colab_link": true
    },
    "kernelspec": {
      "name": "python3",
      "display_name": "Python 3"
    },
    "language_info": {
      "name": "python"
    }
  },
  "cells": [
    {
      "cell_type": "markdown",
      "metadata": {
        "id": "view-in-github",
        "colab_type": "text"
      },
      "source": [
        "<a href=\"https://colab.research.google.com/github/Rozmarynka19/kursAI-sb10/blob/main/3_Biblioteka_matplotlib.ipynb\" target=\"_parent\"><img src=\"https://colab.research.google.com/assets/colab-badge.svg\" alt=\"Open In Colab\"/></a>"
      ]
    },
    {
      "cell_type": "markdown",
      "source": [
        "Sposob 1 - importowanie calych modułów\n",
        "```\n",
        "import cs\n",
        "import lol\n",
        "\n",
        "cs.map_name()\n",
        "lol.map_name()\n",
        "\n",
        "1.   Element listy\n",
        "2.   Element listy\n",
        "\n",
        "\n",
        "cs.buy_gun()\n",
        "lol.buy_ardent()\n",
        "```\n",
        "\n",
        "```\n",
        "The Dust 2\n",
        "Summoner's Rift\n",
        "You have bought a gun\n",
        "You have bought an Ardent Censer\n",
        "```\n",
        "\n"
      ],
      "metadata": {
        "id": "EylOwErBQEjy"
      }
    },
    {
      "cell_type": "markdown",
      "source": [
        "Sposób 2 - importowanie wszystkich elementów z modułu\n",
        "```\n",
        "from lol import *\n",
        "from cs import *\n",
        "\n",
        "map_name() # wywołane z cs, bo nadpisuje metodę z lol\n",
        "buy_ardent()\n",
        "buy_gun()\n",
        "```\n",
        "\n",
        "```\n",
        "The Dust 2\n",
        "You have bought an Ardent Censer\n",
        "You have bought a gun\n",
        "```"
      ],
      "metadata": {
        "id": "ZP_3JOXVRNmW"
      }
    },
    {
      "cell_type": "markdown",
      "source": [
        "Sposób 3 - importowanie wybranych elementów z modułu\n",
        "```\n",
        "from cs import map_name, buy_gun\n",
        "from lol import buy_ardent\n",
        "\n",
        "map_name() # wywołuje z cs, bo nie importowaliśmy map_name z lol\n",
        "buy_ardent()\n",
        "buy_gun()\n",
        "```\n",
        "\n",
        "```\n",
        "The Dust 2\n",
        "You have bought an Ardent Censer\n",
        "You have bought a gun\n",
        "```"
      ],
      "metadata": {
        "id": "BpinDHCESRRw"
      }
    },
    {
      "cell_type": "markdown",
      "source": [
        "Sposób 4 - importowanie wybranych elementów z modułu i dodanie aliasu na element\n",
        "```\n",
        "from cs import map_name as cs_map\n",
        "from lol import map_name as lol_map\n",
        "\n",
        "cs_map()\n",
        "lol_map()\n",
        "```\n",
        "\n",
        "```\n",
        "The Dust 2\n",
        "Summoner's Rift\n",
        "```"
      ],
      "metadata": {
        "id": "LbRTttoMTQzo"
      }
    },
    {
      "cell_type": "code",
      "execution_count": 20,
      "metadata": {
        "colab": {
          "base_uri": "https://localhost:8080/"
        },
        "id": "8I3LYN8KOFz8",
        "outputId": "64f0ad72-07fe-4cf3-f356-b1ca7b35e6a2"
      },
      "outputs": [
        {
          "output_type": "stream",
          "name": "stdout",
          "text": [
            "The Dust 2\n",
            "Summoner's Rift\n",
            "The Dust 2\n"
          ]
        }
      ],
      "source": [
        "from cs import map_name as cs_map\n",
        "from lol import map_name as lol_map\n",
        "\n",
        "cs_map()\n",
        "lol_map()\n",
        "\n",
        "map_name() # ciekawe"
      ]
    },
    {
      "cell_type": "markdown",
      "source": [
        "Matplotlib"
      ],
      "metadata": {
        "id": "SFn9sjjYUBs6"
      }
    },
    {
      "cell_type": "code",
      "source": [
        "!pip freeze | grep matplotlib"
      ],
      "metadata": {
        "colab": {
          "base_uri": "https://localhost:8080/"
        },
        "id": "UkA0WZL3T_98",
        "outputId": "95c2afc0-bdb5-46a8-9fb6-2a933b2f4140"
      },
      "execution_count": 21,
      "outputs": [
        {
          "output_type": "stream",
          "name": "stdout",
          "text": [
            "matplotlib==3.10.0\n",
            "matplotlib-inline==0.1.7\n",
            "matplotlib-venn==1.1.2\n"
          ]
        }
      ]
    },
    {
      "cell_type": "code",
      "source": [
        "import matplotlib\n",
        "print(matplotlib.__version__)"
      ],
      "metadata": {
        "colab": {
          "base_uri": "https://localhost:8080/"
        },
        "id": "MuIKOAPwUPuJ",
        "outputId": "31a41369-81be-49f3-b60f-00cd9e85235e"
      },
      "execution_count": 22,
      "outputs": [
        {
          "output_type": "stream",
          "name": "stdout",
          "text": [
            "3.10.0\n"
          ]
        }
      ]
    }
  ]
}