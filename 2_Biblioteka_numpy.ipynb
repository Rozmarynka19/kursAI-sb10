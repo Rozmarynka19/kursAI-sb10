{
  "nbformat": 4,
  "nbformat_minor": 0,
  "metadata": {
    "colab": {
      "provenance": [],
      "authorship_tag": "ABX9TyNvquy45LJ2vrgIpGpFIHgf",
      "include_colab_link": true
    },
    "kernelspec": {
      "name": "python3",
      "display_name": "Python 3"
    },
    "language_info": {
      "name": "python"
    }
  },
  "cells": [
    {
      "cell_type": "markdown",
      "metadata": {
        "id": "view-in-github",
        "colab_type": "text"
      },
      "source": [
        "<a href=\"https://colab.research.google.com/github/Rozmarynka19/kursAI-sb10/blob/main/2_Biblioteka_numpy.ipynb\" target=\"_parent\"><img src=\"https://colab.research.google.com/assets/colab-badge.svg\" alt=\"Open In Colab\"/></a>"
      ]
    },
    {
      "cell_type": "code",
      "execution_count": null,
      "metadata": {
        "colab": {
          "base_uri": "https://localhost:8080/"
        },
        "id": "69sysNOQJAFz",
        "outputId": "72b3f2c5-28b5-4577-cd6e-28f14a5fa7fe"
      },
      "outputs": [
        {
          "output_type": "stream",
          "name": "stdout",
          "text": [
            "Python 3.11.11\n"
          ]
        }
      ],
      "source": [
        "!python --version"
      ]
    },
    {
      "cell_type": "code",
      "source": [
        "!pip freeze | grep numpy"
      ],
      "metadata": {
        "colab": {
          "base_uri": "https://localhost:8080/"
        },
        "id": "vCSoZB1JKp3J",
        "outputId": "86b48b1f-49d5-4474-d74c-a74ac28ddc27"
      },
      "execution_count": null,
      "outputs": [
        {
          "output_type": "stream",
          "name": "stdout",
          "text": [
            "numpy==1.26.4\n"
          ]
        }
      ]
    },
    {
      "cell_type": "code",
      "source": [
        "# wazne - importowanie bibl. numpy\n",
        "import numpy as np\n",
        "\n",
        "# tworzenie tablicy\n",
        "array = np.array([1,2,3,4,5,6,7,8,9,10,11,12])\n",
        "print(array)\n",
        "print(f\"Kształt tablicy: {np.shape(array)}\")\n",
        "\n",
        "array2x6 = array.reshape(2,6)\n",
        "print(\"Array 2x6\")\n",
        "print(array2x6)\n",
        "print(f\"Array 2x6 - kształt {np.shape(array2x6)}\")"
      ],
      "metadata": {
        "colab": {
          "base_uri": "https://localhost:8080/"
        },
        "id": "xhrKrMwgMG4F",
        "outputId": "260a43a3-fa8c-4c61-f206-638ed69b4b84"
      },
      "execution_count": 2,
      "outputs": [
        {
          "output_type": "stream",
          "name": "stdout",
          "text": [
            "[ 1  2  3  4  5  6  7  8  9 10 11 12]\n",
            "Kształt tablicy: (12,)\n",
            "Array 2x6\n",
            "[[ 1  2  3  4  5  6]\n",
            " [ 7  8  9 10 11 12]]\n",
            "Array 2x6 - kształt (2, 6)\n"
          ]
        }
      ]
    },
    {
      "cell_type": "code",
      "source": [
        "# Zadanie: zmień kształt array na (3,4)\n",
        "array3x4 = array.reshape(3,4)\n",
        "print(\"Array 3x4\")\n",
        "print(array3x4)\n",
        "print(f\"Array 3x4 - kształt {np.shape(array3x4)}\")"
      ],
      "metadata": {
        "colab": {
          "base_uri": "https://localhost:8080/"
        },
        "id": "w-gnrD3SNHPA",
        "outputId": "ecfa0dab-2f16-4763-eb60-f00ccfd7eeff"
      },
      "execution_count": null,
      "outputs": [
        {
          "output_type": "stream",
          "name": "stdout",
          "text": [
            "Array 3x4\n",
            "[[ 1  2  3  4]\n",
            " [ 5  6  7  8]\n",
            " [ 9 10 11 12]]\n",
            "Array 3x4 - kształt (3, 4)\n"
          ]
        }
      ]
    },
    {
      "cell_type": "code",
      "source": [
        "# Zadanie: zmień kształt array na (2,2,3)\n",
        "array2x2x3 = array.reshape(2,2,3)\n",
        "print(array2x2x3)\n",
        "print(f\"Kształt {np.shape(array2x2x3)}\")"
      ],
      "metadata": {
        "colab": {
          "base_uri": "https://localhost:8080/"
        },
        "id": "onWTRtGXOqgr",
        "outputId": "45634683-9f02-4ea7-bede-b28d85d25514"
      },
      "execution_count": null,
      "outputs": [
        {
          "output_type": "stream",
          "name": "stdout",
          "text": [
            "[[[ 1  2  3]\n",
            "  [ 4  5  6]]\n",
            "\n",
            " [[ 7  8  9]\n",
            "  [10 11 12]]]\n",
            "Kształt (2, 2, 3)\n"
          ]
        }
      ]
    },
    {
      "cell_type": "code",
      "source": [
        "array2 = np.array([1,2,3,4,5,6,7,8,9,10])\n",
        "\n",
        "zagadka = array.reshape(-1,3)\n",
        "print(zagadka)\n",
        "print(f\"Kształt: {np.shape(zagadka)}\")"
      ],
      "metadata": {
        "colab": {
          "base_uri": "https://localhost:8080/"
        },
        "id": "h3EYTMJ8O6Tj",
        "outputId": "35f211de-9c1d-4b96-b9ad-12dba10471b6"
      },
      "execution_count": null,
      "outputs": [
        {
          "output_type": "stream",
          "name": "stdout",
          "text": [
            "[[ 1  2  3]\n",
            " [ 4  5  6]\n",
            " [ 7  8  9]\n",
            " [10 11 12]]\n",
            "Kształt: (4, 3)\n"
          ]
        }
      ]
    },
    {
      "cell_type": "code",
      "source": [
        "unsorted1D = np.array([3,6,2,4])\n",
        "print(unsorted1D)\n",
        "sorted1D = np.sort(unsorted1D)\n",
        "print(sorted1D)"
      ],
      "metadata": {
        "colab": {
          "base_uri": "https://localhost:8080/"
        },
        "id": "fPO6MBRJP2mB",
        "outputId": "a2c4c6f5-6975-43c3-b278-fa0b7535fc6d"
      },
      "execution_count": null,
      "outputs": [
        {
          "output_type": "stream",
          "name": "stdout",
          "text": [
            "[3 6 2 4]\n",
            "[2 3 4 6]\n"
          ]
        }
      ]
    },
    {
      "cell_type": "code",
      "source": [
        "unsorted2D = np.array([[7,2,9],\n",
        "                       [4,8,1],\n",
        "                       [5,6,3]])\n",
        "print(unsorted2D)\n",
        "\n",
        "# TODO: axis=0 - sortowanie po kolumnach\n",
        "sorted2D_axis0 = np.sort(unsorted2D, axis=0)\n",
        "print(f\"Tablica posortowania wzdłuż osi 0:\\n{sorted2D_axis0}\")\n",
        "\n",
        "# TODO: axis=1 - sortowanie po wierszach\n",
        "sorted2D_axis1 = np.sort(unsorted2D, axis=1)\n",
        "print(f\"Tablica posortowania wzdłuż osi 1:\\n{sorted2D_axis1}\")"
      ],
      "metadata": {
        "colab": {
          "base_uri": "https://localhost:8080/"
        },
        "id": "n9FBZjuwQY6r",
        "outputId": "af06c444-cbb3-4ce8-862b-25490b876d3d"
      },
      "execution_count": null,
      "outputs": [
        {
          "output_type": "stream",
          "name": "stdout",
          "text": [
            "[[7 2 9]\n",
            " [4 8 1]\n",
            " [5 6 3]]\n",
            "Tablica posortowania wzdłuż osi 0:\n",
            "[[4 2 1]\n",
            " [5 6 3]\n",
            " [7 8 9]]\n",
            "Tablica posortowania wzdłuż osi 1:\n",
            "[[2 7 9]\n",
            " [1 4 8]\n",
            " [3 5 6]]\n"
          ]
        }
      ]
    },
    {
      "cell_type": "code",
      "source": [
        "player_data = np.array([\n",
        "    (\"Faker\", \"T1\", 5),\n",
        "    (\"TheSky\", \"Weibo Gaming\", 1),\n",
        "    (\"Uzi\", \"Emerytowany\", 0)\n",
        "], dtype = [(\"Nick\", \"U30\"), (\"Team\", \"U30\"), (\"Worlds Title count\", \"i4\")])\n",
        "\n",
        "print(player_data)\n",
        "\n",
        "# sortowanie po kolumnie o nazwie \"Team\"\n",
        "print(np.sort(player_data, order=\"Team\"))"
      ],
      "metadata": {
        "colab": {
          "base_uri": "https://localhost:8080/"
        },
        "id": "ykRQe8ATAeYO",
        "outputId": "45975b00-66a7-4c95-d440-bc808fb2c6c9"
      },
      "execution_count": 6,
      "outputs": [
        {
          "output_type": "stream",
          "name": "stdout",
          "text": [
            "[('Faker', 'T1', 5) ('TheSky', 'Weibo Gaming', 1)\n",
            " ('Uzi', 'Emerytowany', 0)]\n",
            "[('Uzi', 'Emerytowany', 0) ('Faker', 'T1', 5)\n",
            " ('TheSky', 'Weibo Gaming', 1)]\n"
          ]
        }
      ]
    },
    {
      "cell_type": "code",
      "source": [
        "# random\n",
        "from numpy import random\n",
        "\n",
        "# <1, 11) int\n",
        "for i in range(10):\n",
        "  print(random.randint(1,11))\n",
        "\n",
        "# <0,1) float\n",
        "for i in range(10):\n",
        "  print(random.rand()*10)"
      ],
      "metadata": {
        "colab": {
          "base_uri": "https://localhost:8080/"
        },
        "id": "zFwZd5vYB68A",
        "outputId": "0ac801bb-a2a2-4c4d-ba4a-03eb6bbe8663"
      },
      "execution_count": 9,
      "outputs": [
        {
          "output_type": "stream",
          "name": "stdout",
          "text": [
            "6\n",
            "3\n",
            "10\n",
            "1\n",
            "3\n",
            "6\n",
            "6\n",
            "6\n",
            "4\n",
            "1\n",
            "0.23193617251651077\n",
            "0.2599905667366387\n",
            "0.30806100833966077\n",
            "0.7769285648828587\n",
            "0.9412321808833899\n",
            "0.026856496255810214\n",
            "0.25822599827590165\n",
            "0.253927468785886\n",
            "0.37509381538059317\n",
            "0.26776079201373604\n"
          ]
        }
      ]
    },
    {
      "cell_type": "code",
      "source": [
        "lista = [1,2,3,4]\n",
        "\n",
        "print(random.choice(lista, 3))"
      ],
      "metadata": {
        "colab": {
          "base_uri": "https://localhost:8080/"
        },
        "id": "bffT_ysiDPF9",
        "outputId": "c8c16727-2139-4c1a-bec5-936d3eb50415"
      },
      "execution_count": 17,
      "outputs": [
        {
          "output_type": "stream",
          "name": "stdout",
          "text": [
            "[1 1 2]\n"
          ]
        }
      ]
    },
    {
      "cell_type": "code",
      "source": [
        "array1D =  np.array([1,2,3,4,5,6,7,8,9])\n",
        "\n",
        "# elementy do indeksu 4 (włącznie)\n",
        "print(array1D[:5])\n",
        "\n",
        "# elementy od indeksu 2 do indeksu 4 (włącznie)\n",
        "print(array1D[2:5])\n",
        "\n",
        "# elementy od indeksu 2 do końca\n",
        "print(array1D[2:])\n",
        "\n",
        "# elementy od 3 od końca do przedostatniego\n",
        "print(array1D[-3:-1])"
      ],
      "metadata": {
        "colab": {
          "base_uri": "https://localhost:8080/"
        },
        "id": "J2H3lpJyEF6s",
        "outputId": "01ad0c21-d1c4-4d71-ef01-2e7b28dc7aa0"
      },
      "execution_count": 27,
      "outputs": [
        {
          "output_type": "stream",
          "name": "stdout",
          "text": [
            "[1 2 3 4 5]\n",
            "[3 4 5]\n",
            "[3 4 5 6 7 8 9]\n",
            "[7 8]\n"
          ]
        }
      ]
    },
    {
      "cell_type": "code",
      "source": [
        "array2D = np.array([\n",
        "    [1,2,3,4,5],\n",
        "    [6,7,8,9,10],\n",
        "    [11,12,13,14,15]\n",
        "])\n",
        "\n",
        "print(array2D[2,1])\n",
        "print(array2D[:,2:4])\n",
        "print(array2D[0:2,2:4])\n",
        "\n",
        "for i in np.nditer(array2D):\n",
        "  print(i)"
      ],
      "metadata": {
        "colab": {
          "base_uri": "https://localhost:8080/"
        },
        "id": "yjttAMFUFGs3",
        "outputId": "76a8c5b9-7f6c-4246-b3d9-46769de5856b"
      },
      "execution_count": 36,
      "outputs": [
        {
          "output_type": "stream",
          "name": "stdout",
          "text": [
            "12\n",
            "[[ 3  4]\n",
            " [ 8  9]\n",
            " [13 14]]\n",
            "[[3 4]\n",
            " [8 9]]\n",
            "1\n",
            "2\n",
            "3\n",
            "4\n",
            "5\n",
            "6\n",
            "7\n",
            "8\n",
            "9\n",
            "10\n",
            "11\n",
            "12\n",
            "13\n",
            "14\n",
            "15\n"
          ]
        }
      ]
    },
    {
      "cell_type": "code",
      "source": [
        "array2D = np.array([\n",
        "    [1,2,3,4,5],\n",
        "    [6,7,8,9,10],\n",
        "    [11,12,13,14,6]\n",
        "])\n",
        "\n",
        "result = np.where(array2D == 6)\n",
        "print(result)\n",
        "\n",
        "result = np.where(array2D % 2 == 0, True, False)\n",
        "print(result)\n",
        "\n",
        "filtered = array2D[result]\n",
        "print(filtered)"
      ],
      "metadata": {
        "colab": {
          "base_uri": "https://localhost:8080/"
        },
        "id": "LRHFjzHJGnVQ",
        "outputId": "79fdf560-45bd-4204-bc05-18c9e4588f64"
      },
      "execution_count": 41,
      "outputs": [
        {
          "output_type": "stream",
          "name": "stdout",
          "text": [
            "(array([1, 2]), array([0, 4]))\n",
            "[[False  True False  True False]\n",
            " [ True False  True False  True]\n",
            " [False  True False  True  True]]\n",
            "[ 2  4  6  8 10 12 14  6]\n"
          ]
        }
      ]
    }
  ]
}