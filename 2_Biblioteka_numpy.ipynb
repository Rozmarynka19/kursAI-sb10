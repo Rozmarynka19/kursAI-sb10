{
  "nbformat": 4,
  "nbformat_minor": 0,
  "metadata": {
    "colab": {
      "provenance": [],
      "authorship_tag": "ABX9TyN38/EeB7QJ1u/IWd4ox4X1",
      "include_colab_link": true
    },
    "kernelspec": {
      "name": "python3",
      "display_name": "Python 3"
    },
    "language_info": {
      "name": "python"
    }
  },
  "cells": [
    {
      "cell_type": "markdown",
      "metadata": {
        "id": "view-in-github",
        "colab_type": "text"
      },
      "source": [
        "<a href=\"https://colab.research.google.com/github/Rozmarynka19/kursAI-sb10/blob/sr1640/2_Biblioteka_numpy.ipynb\" target=\"_parent\"><img src=\"https://colab.research.google.com/assets/colab-badge.svg\" alt=\"Open In Colab\"/></a>"
      ]
    },
    {
      "cell_type": "code",
      "execution_count": 2,
      "metadata": {
        "colab": {
          "base_uri": "https://localhost:8080/"
        },
        "id": "DYj7Qd8TBbAd",
        "outputId": "2967a0e3-1dbb-4651-c23f-53d25bb29275"
      },
      "outputs": [
        {
          "output_type": "stream",
          "name": "stdout",
          "text": [
            "numpy==1.26.4\n"
          ]
        }
      ],
      "source": [
        "!pip freeze | grep numpy"
      ]
    },
    {
      "cell_type": "code",
      "source": [
        "!python --version"
      ],
      "metadata": {
        "colab": {
          "base_uri": "https://localhost:8080/"
        },
        "id": "sudIBwcVDhnu",
        "outputId": "87540643-b96f-47c1-b639-bb7127ab6f12"
      },
      "execution_count": 3,
      "outputs": [
        {
          "output_type": "stream",
          "name": "stdout",
          "text": [
            "Python 3.11.11\n"
          ]
        }
      ]
    },
    {
      "cell_type": "code",
      "source": [
        "import numpy as np\n",
        "\n",
        "array = np.array([1,2,3,4,5,6,7,8,9,10,11,12])\n",
        "print(f\"Shape of array: {np.shape(array)}\")"
      ],
      "metadata": {
        "colab": {
          "base_uri": "https://localhost:8080/"
        },
        "id": "Ppjb1Yu8DkD5",
        "outputId": "663dc574-772c-45bb-f941-837ceb2fb389"
      },
      "execution_count": 5,
      "outputs": [
        {
          "output_type": "stream",
          "name": "stdout",
          "text": [
            "Shape of array: (12,)\n"
          ]
        }
      ]
    },
    {
      "cell_type": "code",
      "source": [
        "array2x6 = array.reshape(2,6)\n",
        "print(f\"Array 2x6 = {array2x6}\")\n",
        "print(f\"Array 2x6 shape = {np.shape(array2x6)}\")"
      ],
      "metadata": {
        "colab": {
          "base_uri": "https://localhost:8080/"
        },
        "id": "1EGryqcREmvK",
        "outputId": "6feca1d3-f6cb-4c09-8df1-f3c52d839bd6"
      },
      "execution_count": 11,
      "outputs": [
        {
          "output_type": "stream",
          "name": "stdout",
          "text": [
            "Array 2x6 = [[ 1  2  3  4  5  6]\n",
            " [ 7  8  9 10 11 12]]\n",
            "Array 2x6 shape = (2, 6)\n"
          ]
        }
      ]
    },
    {
      "cell_type": "code",
      "source": [
        "# Kształt na wierszy 3 kolumn 4\n",
        "array3x4 = array.reshape(3,4)\n",
        "print(f\"Array 3x4 = {array3x4}\")\n",
        "print(f\"Array 3x4 shape = {np.shape(array3x4)}\")\n"
      ],
      "metadata": {
        "colab": {
          "base_uri": "https://localhost:8080/"
        },
        "id": "rsKPTF2vFPfo",
        "outputId": "132277dc-5d07-4405-a9d8-48632c3d88c1"
      },
      "execution_count": 12,
      "outputs": [
        {
          "output_type": "stream",
          "name": "stdout",
          "text": [
            "Array 3x4 = [[ 1  2  3  4]\n",
            " [ 5  6  7  8]\n",
            " [ 9 10 11 12]]\n",
            "Array 3x4 shape = (3, 4)\n"
          ]
        }
      ]
    },
    {
      "cell_type": "code",
      "source": [
        "# Kształt na 2 tablice po wiersze 2 kolumny 3\n",
        "array2x2x3 = array.reshape(2,2,3)\n",
        "print(f\"Array 2x2x3 = {array2x2x3}\")\n",
        "print(f\"Array 2x2x3 shape = {np.shape(array2x2x3)}\")"
      ],
      "metadata": {
        "colab": {
          "base_uri": "https://localhost:8080/"
        },
        "id": "4Up8qfFVGN0y",
        "outputId": "360c35ae-2f66-4315-c6be-f5dfbed0f3c7"
      },
      "execution_count": 13,
      "outputs": [
        {
          "output_type": "stream",
          "name": "stdout",
          "text": [
            "Array 2x2x3 = [[[ 1  2  3]\n",
            "  [ 4  5  6]]\n",
            "\n",
            " [[ 7  8  9]\n",
            "  [10 11 12]]]\n",
            "Array 2x2x3 shape = (2, 2, 3)\n"
          ]
        }
      ]
    },
    {
      "cell_type": "code",
      "source": [
        "zagadka = array.reshape(6,-1)\n",
        "print(f\"zagadka = {zagadka}\")\n",
        "print(f\"zagadka shape = {np.shape(zagadka)}\")"
      ],
      "metadata": {
        "colab": {
          "base_uri": "https://localhost:8080/"
        },
        "id": "I_a218ehGl7J",
        "outputId": "21c65d03-4d0d-46d8-969c-2367a209fe9c"
      },
      "execution_count": 14,
      "outputs": [
        {
          "output_type": "stream",
          "name": "stdout",
          "text": [
            "zagadka = [[ 1  2]\n",
            " [ 3  4]\n",
            " [ 5  6]\n",
            " [ 7  8]\n",
            " [ 9 10]\n",
            " [11 12]]\n",
            "zagadka shape = (6, 2)\n"
          ]
        }
      ]
    },
    {
      "cell_type": "code",
      "source": [
        "unsorted1D = np.array([3,6,2,4])\n",
        "print(f\"Nieposortowana: {unsorted1D}\")\n",
        "print(f\"Posortowana: {np.sort(unsorted1D)}\")"
      ],
      "metadata": {
        "colab": {
          "base_uri": "https://localhost:8080/"
        },
        "id": "-LeRSLlOHUUu",
        "outputId": "caa63847-8b2c-4800-ab13-89a21865acda"
      },
      "execution_count": 16,
      "outputs": [
        {
          "output_type": "stream",
          "name": "stdout",
          "text": [
            "Nieposortowana: [3 6 2 4]\n",
            "Posortowana: [2 3 4 6]\n"
          ]
        }
      ]
    },
    {
      "cell_type": "code",
      "source": [
        "unsorted2D = np.array([[7,2,9],\n",
        "                       [4,8,1],\n",
        "                       [5,6,3]])\n",
        "sorted_in_rows = np.sort(unsorted2D, axis=1)\n",
        "print(sorted_in_rows)\n",
        "\n",
        "sorted_in_cols = np.sort(unsorted2D, axis=0)\n",
        "print(sorted_in_cols)"
      ],
      "metadata": {
        "colab": {
          "base_uri": "https://localhost:8080/"
        },
        "id": "Y-JvA-FzHoL9",
        "outputId": "c01bf948-5c25-4c5a-b835-2e092c61c104"
      },
      "execution_count": 21,
      "outputs": [
        {
          "output_type": "stream",
          "name": "stdout",
          "text": [
            "[[2 7 9]\n",
            " [1 4 8]\n",
            " [3 5 6]]\n",
            "[[4 2 1]\n",
            " [5 6 3]\n",
            " [7 8 9]]\n"
          ]
        }
      ]
    },
    {
      "cell_type": "code",
      "source": [
        "players_data = np.array([\n",
        "    (\"Faker\", \"T1\", 5),\n",
        "    (\"TheShy\", \"Weibo Gaming\", 1),\n",
        "    (\"Uzi\", \"Emerytowany\", 0),\n",
        "], dtype=[\n",
        "    (\"Nick\", \"U30\"),\n",
        "    (\"Team\", \"U30\"),\n",
        "    (\"World Title Count\", \"i4\")\n",
        "])\n",
        "\n",
        "print(np.sort(players_data, order=\"Team\"))"
      ],
      "metadata": {
        "colab": {
          "base_uri": "https://localhost:8080/"
        },
        "id": "WRC8uklsLtpZ",
        "outputId": "526ce8cc-3165-46f4-8ba2-8ab289e6aec0"
      },
      "execution_count": 24,
      "outputs": [
        {
          "output_type": "stream",
          "name": "stdout",
          "text": [
            "[('Uzi', 'Emerytowany', 0) ('Faker', 'T1', 5)\n",
            " ('TheShy', 'Weibo Gaming', 1)]\n"
          ]
        }
      ]
    },
    {
      "cell_type": "code",
      "source": [
        "from numpy import random as r\n",
        "\n",
        "for i in range(10):\n",
        "  print(r.randint(1,11))"
      ],
      "metadata": {
        "colab": {
          "base_uri": "https://localhost:8080/"
        },
        "id": "cwUyT5USOKS0",
        "outputId": "d9fdbc21-c163-49a5-94f4-72883d6eff9e"
      },
      "execution_count": 26,
      "outputs": [
        {
          "output_type": "stream",
          "name": "stdout",
          "text": [
            "10\n",
            "5\n",
            "7\n",
            "6\n",
            "10\n",
            "2\n",
            "4\n",
            "7\n",
            "6\n",
            "1\n"
          ]
        }
      ]
    },
    {
      "cell_type": "code",
      "source": [
        "for i in range(10):\n",
        "  print(r.rand()*10+3)"
      ],
      "metadata": {
        "colab": {
          "base_uri": "https://localhost:8080/"
        },
        "id": "JEEZylxoO1f4",
        "outputId": "24f27fe1-dace-4c7d-8d5b-7cc29afc18b0"
      },
      "execution_count": 29,
      "outputs": [
        {
          "output_type": "stream",
          "name": "stdout",
          "text": [
            "4.232220914969348\n",
            "6.138698045249795\n",
            "9.535419265037937\n",
            "7.809549216008346\n",
            "5.859313492134488\n",
            "7.159054446330708\n",
            "10.523821861637934\n",
            "10.311358467340927\n",
            "12.958804952381792\n",
            "10.794415794413172\n"
          ]
        }
      ]
    },
    {
      "cell_type": "code",
      "source": [
        "lista = [5,2,6,8]\n",
        "print(f\"Losowy element z listy {r.choice(lista, 3)}\")"
      ],
      "metadata": {
        "colab": {
          "base_uri": "https://localhost:8080/"
        },
        "id": "nzA3SFzXPWlQ",
        "outputId": "851728b8-e927-492a-acfa-5f839a387ccc"
      },
      "execution_count": 47,
      "outputs": [
        {
          "output_type": "stream",
          "name": "stdout",
          "text": [
            "Losowy element z listy [2 2 2]\n"
          ]
        }
      ]
    },
    {
      "cell_type": "code",
      "source": [
        "lista2 = [1,2,3,4,5,6]\n",
        "r.shuffle(lista2)\n",
        "print(f\"Pomieszana lista: {lista2}\")"
      ],
      "metadata": {
        "colab": {
          "base_uri": "https://localhost:8080/"
        },
        "id": "QeTXHP4PPtKD",
        "outputId": "e67a7900-6a62-43f2-9501-c889321f4019"
      },
      "execution_count": 50,
      "outputs": [
        {
          "output_type": "stream",
          "name": "stdout",
          "text": [
            "Pomieszana lista: [6, 4, 5, 2, 1, 3]\n"
          ]
        }
      ]
    },
    {
      "cell_type": "code",
      "source": [
        "array1D = np.array([1,2,3,4,5,6,7,8,9])\n",
        "\n",
        "print(array1D[2:5]) # od 2 do 4 włącznie (indeksy)\n",
        "print(array1D[:5]) # od początku do 4 włącznie (indeksy)\n",
        "print(array1D[3:]) # od indeksu 3\n",
        "print(array1D[-3:-1]) # elementy od 3 od końca do przedostatniego"
      ],
      "metadata": {
        "colab": {
          "base_uri": "https://localhost:8080/"
        },
        "id": "A4_4cshVQjFI",
        "outputId": "518a16f1-52f2-4f3d-f8c1-a07abe0c0f61"
      },
      "execution_count": 56,
      "outputs": [
        {
          "output_type": "stream",
          "name": "stdout",
          "text": [
            "[3 4 5]\n",
            "[1 2 3 4 5]\n",
            "[4 5 6 7 8 9]\n",
            "[7 8]\n"
          ]
        }
      ]
    },
    {
      "cell_type": "code",
      "source": [
        "array2D = np.array([[1,2,3,4,5],\n",
        "                   [6,7,8,9,10],\n",
        "                   [11,12,13,14,15]])\n",
        "print(array2D[2,1])\n",
        "print(array2D[:,2:4])\n",
        "print(array2D[1:3,3:6])\n",
        "print(array2D[1:,3:])\n",
        "print(array2D[-2:,-2:])\n",
        "#[[9,10],\n",
        "# [14,15]]"
      ],
      "metadata": {
        "colab": {
          "base_uri": "https://localhost:8080/"
        },
        "id": "MS9IXnOsRmN-",
        "outputId": "2341c686-c1c5-4d94-cd25-c1471808bc88"
      },
      "execution_count": 65,
      "outputs": [
        {
          "output_type": "stream",
          "name": "stdout",
          "text": [
            "12\n",
            "[[ 3  4]\n",
            " [ 8  9]\n",
            " [13 14]]\n",
            "[[ 9 10]\n",
            " [14 15]]\n",
            "[[ 9 10]\n",
            " [14 15]]\n",
            "[[ 9 10]\n",
            " [14 15]]\n"
          ]
        }
      ]
    },
    {
      "cell_type": "code",
      "source": [
        "for i in np.nditer(array2D):\n",
        "  print(i)"
      ],
      "metadata": {
        "colab": {
          "base_uri": "https://localhost:8080/"
        },
        "id": "Krpq7of1TgDd",
        "outputId": "0d487a73-6e7d-4e06-e81e-ea73a0152afb"
      },
      "execution_count": 64,
      "outputs": [
        {
          "output_type": "stream",
          "name": "stdout",
          "text": [
            "1\n",
            "2\n",
            "3\n",
            "4\n",
            "5\n",
            "6\n",
            "7\n",
            "8\n",
            "9\n",
            "10\n",
            "11\n",
            "12\n",
            "13\n",
            "14\n",
            "15\n"
          ]
        }
      ]
    },
    {
      "cell_type": "code",
      "source": [
        "array2D = np.array([[1,2,3,4,5],\n",
        "                   [6,7,8,9,10],\n",
        "                   [11,12,13,14,6]])\n",
        "mask = np.where(array2D % 2 == 0, True, False)\n",
        "print(array2D[mask])"
      ],
      "metadata": {
        "colab": {
          "base_uri": "https://localhost:8080/"
        },
        "id": "9QT8P_PeUITv",
        "outputId": "e4e72a45-ecf2-4754-b8e0-fb7857a13d63"
      },
      "execution_count": 70,
      "outputs": [
        {
          "output_type": "stream",
          "name": "stdout",
          "text": [
            "[ 2  4  6  8 10 12 14  6]\n"
          ]
        }
      ]
    },
    {
      "cell_type": "markdown",
      "source": [
        "1.Utwórz 9 elementową tablicę składającą się z losowych liczb z przedziału\n",
        "<-10;10>.\n",
        "\n",
        "2.Zmień kształt tablicy na 3x3\n",
        "\n",
        "3.Posortuj tablicę tak aby wartości były posortowane w kolumnach.\n",
        "\n",
        "4.Wygeneruj maskę zawierającą wartość True dla wartości nieujemnych i False dla wartości ujemnych.\n",
        "\n",
        "5.Utwórz tablicę filtered która zawiera tylko nieujemne elementy początkowej tablicy.\n",
        "\n",
        "Sprawdzić zadanie"
      ],
      "metadata": {
        "id": "CKTWjD3sVk62"
      }
    }
  ]
}