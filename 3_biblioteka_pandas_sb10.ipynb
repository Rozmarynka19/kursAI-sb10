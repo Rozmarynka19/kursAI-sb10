{
  "nbformat": 4,
  "nbformat_minor": 0,
  "metadata": {
    "colab": {
      "provenance": [],
      "authorship_tag": "ABX9TyPNoyeSkgHUV8XlmER1ZytM",
      "include_colab_link": true
    },
    "kernelspec": {
      "name": "python3",
      "display_name": "Python 3"
    },
    "language_info": {
      "name": "python"
    }
  },
  "cells": [
    {
      "cell_type": "markdown",
      "metadata": {
        "id": "view-in-github",
        "colab_type": "text"
      },
      "source": [
        "<a href=\"https://colab.research.google.com/github/Rozmarynka19/kursAI-sb10/blob/main/3_biblioteka_pandas_sb10.ipynb\" target=\"_parent\"><img src=\"https://colab.research.google.com/assets/colab-badge.svg\" alt=\"Open In Colab\"/></a>"
      ]
    },
    {
      "cell_type": "code",
      "execution_count": 14,
      "metadata": {
        "colab": {
          "base_uri": "https://localhost:8080/"
        },
        "id": "Lb3q0nrxHrE2",
        "outputId": "97bd7610-c2e0-4c9c-85a9-aa7379cda88d"
      },
      "outputs": [
        {
          "output_type": "stream",
          "name": "stdout",
          "text": [
            "Ania     25\n",
            "Jan      30\n",
            "Kasia    22\n",
            "dtype: int64\n",
            "Kuba           18\n",
            "Ania           16\n",
            "Marek          17\n",
            "Wojtek         20\n",
            "Nieznajomy    NaN\n",
            "dtype: object\n",
            "Rozmiar serii: 5\n",
            "Kształt serii: (5,)\n",
            "Typ danych w serii: object\n",
            "Indexy w serii: Index(['Kuba', 'Ania', 'Marek', 'Wojtek', 'Nieznajomy'], dtype='object')\n",
            "Wartości w serii: [18 16 17 '20' nan]\n",
            "Wartości w serii: 17\n",
            "Wartości w serii: 17\n"
          ]
        }
      ],
      "source": [
        "import pandas as pd\n",
        "import numpy as np\n",
        "\n",
        "data = {\"Ania\": 25, \"Jan\": 30, \"Kasia\": 22}\n",
        "s = pd.Series(data)\n",
        "print(s)\n",
        "\n",
        "s2 = pd.Series([18, 16, 17, \"20\", np.nan], index = [\"Kuba\", \"Ania\", \"Marek\", \"Wojtek\", \"Nieznajomy\"])\n",
        "print(s2)\n",
        "print(f\"Rozmiar serii: {s2.size}\")\n",
        "print(f\"Kształt serii: {s2.shape}\")\n",
        "print(f\"Typ danych w serii: {s2.dtype}\")\n",
        "print(f\"Indexy w serii: {s2.index}\")\n",
        "print(f\"Wartości w serii: {s2.values}\")\n",
        "print(f\"Wartości w serii: {s2['Marek']}\")\n",
        "print(f\"Wartości w serii: {s2.iloc[2]}\")"
      ]
    },
    {
      "cell_type": "code",
      "source": [
        "dane = {\n",
        "    \"cena\": [15, 20, 17],\n",
        "    \"ilość\": [50, 40, 45]\n",
        "}\n",
        "df = pd.DataFrame(dane, index = [\"dzień 1\", \"dzień 2\", \"dzień 3\"])\n",
        "print(df)\n",
        "print(df[\"cena\"])\n",
        "print(df.loc[\"dzień 2\"])\n",
        "print(df.info())"
      ],
      "metadata": {
        "colab": {
          "base_uri": "https://localhost:8080/"
        },
        "id": "WNiA_EZ5Lk2c",
        "outputId": "5f50bea2-8f1b-425f-dfa2-d54f29a2834f"
      },
      "execution_count": 19,
      "outputs": [
        {
          "output_type": "stream",
          "name": "stdout",
          "text": [
            "         cena  ilość\n",
            "dzień 1    15     50\n",
            "dzień 2    20     40\n",
            "dzień 3    17     45\n",
            "dzień 1    15\n",
            "dzień 2    20\n",
            "dzień 3    17\n",
            "Name: cena, dtype: int64\n",
            "cena     20\n",
            "ilość    40\n",
            "Name: dzień 2, dtype: int64\n",
            "<class 'pandas.core.frame.DataFrame'>\n",
            "Index: 3 entries, dzień 1 to dzień 3\n",
            "Data columns (total 2 columns):\n",
            " #   Column  Non-Null Count  Dtype\n",
            "---  ------  --------------  -----\n",
            " 0   cena    3 non-null      int64\n",
            " 1   ilość   3 non-null      int64\n",
            "dtypes: int64(2)\n",
            "memory usage: 180.0+ bytes\n",
            "None\n"
          ]
        }
      ]
    },
    {
      "cell_type": "code",
      "source": [
        "df = pd.read_excel(\"Gigathon_Wyniki.xlsx\")\n",
        "print(df)"
      ],
      "metadata": {
        "colab": {
          "base_uri": "https://localhost:8080/"
        },
        "id": "wCzTudoEN_d9",
        "outputId": "68e7d987-32a8-4357-d55b-bf93176ef86c"
      },
      "execution_count": 20,
      "outputs": [
        {
          "output_type": "stream",
          "name": "stdout",
          "text": [
            "         Imię  Wiek  Punktacja\n",
            "0      Łukasz    18       51.0\n",
            "1   Magdalena    18       52.0\n",
            "2    Radosław    15       46.0\n",
            "3      Patryk    15       52.0\n",
            "4        Anna    14      110.0\n",
            "5     Dagmara    16        NaN\n",
            "6      Tomasz    16      112.0\n",
            "7    Weronika    17      104.0\n",
            "8     Nikodem    17       97.0\n",
            "9      Bartek    14        NaN\n",
            "10      Jakub    16       61.0\n",
            "11   Gabriela    16       92.0\n",
            "12     Hubert    15      120.0\n",
            "13    Zuzanna    13       70.0\n",
            "14     Oliwia    14       84.0\n",
            "15      Filip    16      100.0\n",
            "16    Ewelina    17       98.0\n",
            "17   Karolina    14       63.0\n",
            "18     Xawery    17       39.0\n",
            "19     Cezary    13        NaN\n",
            "20        Iga    15       77.0\n",
            "21    Urszula    14      102.0\n",
            "22        Jan    17      102.0\n",
            "23     Michał    15        NaN\n",
            "24  Katarzyna    18       68.0\n"
          ]
        }
      ]
    },
    {
      "cell_type": "code",
      "source": [
        "print(df.head(5))"
      ],
      "metadata": {
        "colab": {
          "base_uri": "https://localhost:8080/"
        },
        "id": "La0_Y74pPa_I",
        "outputId": "a61e18ea-01b9-4bba-c469-319e8c350ab6"
      },
      "execution_count": 21,
      "outputs": [
        {
          "output_type": "stream",
          "name": "stdout",
          "text": [
            "        Imię  Wiek  Punktacja\n",
            "0     Łukasz    18       51.0\n",
            "1  Magdalena    18       52.0\n",
            "2   Radosław    15       46.0\n",
            "3     Patryk    15       52.0\n",
            "4       Anna    14      110.0\n"
          ]
        }
      ]
    },
    {
      "cell_type": "code",
      "source": [
        "print(df.tail(5))"
      ],
      "metadata": {
        "colab": {
          "base_uri": "https://localhost:8080/"
        },
        "id": "brQjZFadPg53",
        "outputId": "37305f6c-15a7-437e-c681-d83d170a4327"
      },
      "execution_count": 22,
      "outputs": [
        {
          "output_type": "stream",
          "name": "stdout",
          "text": [
            "         Imię  Wiek  Punktacja\n",
            "20        Iga    15       77.0\n",
            "21    Urszula    14      102.0\n",
            "22        Jan    17      102.0\n",
            "23     Michał    15        NaN\n",
            "24  Katarzyna    18       68.0\n"
          ]
        }
      ]
    },
    {
      "cell_type": "code",
      "source": [
        "df[\"Wynik procentowy\"] = df[\"Punktacja\"]/120*100\n",
        "print(df)"
      ],
      "metadata": {
        "colab": {
          "base_uri": "https://localhost:8080/"
        },
        "id": "7bLgE9a_ROcS",
        "outputId": "b6628534-33e5-458e-e108-9ed933b64a7a"
      },
      "execution_count": 30,
      "outputs": [
        {
          "output_type": "stream",
          "name": "stdout",
          "text": [
            "         Imię  Wiek  Punktacja  Wynik procentowy\n",
            "12     Hubert    15      120.0        100.000000\n",
            "6      Tomasz    16      112.0         93.333333\n",
            "4        Anna    14      110.0         91.666667\n",
            "7    Weronika    17      104.0         86.666667\n",
            "22        Jan    17      102.0         85.000000\n",
            "21    Urszula    14      102.0         85.000000\n",
            "15      Filip    16      100.0         83.333333\n",
            "16    Ewelina    17       98.0         81.666667\n",
            "8     Nikodem    17       97.0         80.833333\n",
            "11   Gabriela    16       92.0         76.666667\n",
            "14     Oliwia    14       84.0         70.000000\n",
            "20        Iga    15       77.0         64.166667\n",
            "13    Zuzanna    13       70.0         58.333333\n",
            "24  Katarzyna    18       68.0         56.666667\n",
            "17   Karolina    14       63.0         52.500000\n",
            "10      Jakub    16       61.0         50.833333\n",
            "3      Patryk    15       52.0         43.333333\n",
            "1   Magdalena    18       52.0         43.333333\n",
            "0      Łukasz    18       51.0         42.500000\n",
            "2    Radosław    15       46.0         38.333333\n",
            "18     Xawery    17       39.0         32.500000\n"
          ]
        }
      ]
    },
    {
      "cell_type": "code",
      "source": [
        "df.dropna(inplace = True)\n",
        "print(df)"
      ],
      "metadata": {
        "colab": {
          "base_uri": "https://localhost:8080/"
        },
        "id": "zvDeeyMVRtyx",
        "outputId": "d3efee5b-e8de-42db-be77-dbb401fc18c7"
      },
      "execution_count": 27,
      "outputs": [
        {
          "output_type": "stream",
          "name": "stdout",
          "text": [
            "         Imię  Wiek  Punktacja  Wynik procentowy\n",
            "0      Łukasz    18       51.0         42.500000\n",
            "1   Magdalena    18       52.0         43.333333\n",
            "2    Radosław    15       46.0         38.333333\n",
            "3      Patryk    15       52.0         43.333333\n",
            "4        Anna    14      110.0         91.666667\n",
            "6      Tomasz    16      112.0         93.333333\n",
            "7    Weronika    17      104.0         86.666667\n",
            "8     Nikodem    17       97.0         80.833333\n",
            "10      Jakub    16       61.0         50.833333\n",
            "11   Gabriela    16       92.0         76.666667\n",
            "12     Hubert    15      120.0        100.000000\n",
            "13    Zuzanna    13       70.0         58.333333\n",
            "14     Oliwia    14       84.0         70.000000\n",
            "15      Filip    16      100.0         83.333333\n",
            "16    Ewelina    17       98.0         81.666667\n",
            "17   Karolina    14       63.0         52.500000\n",
            "18     Xawery    17       39.0         32.500000\n",
            "20        Iga    15       77.0         64.166667\n",
            "21    Urszula    14      102.0         85.000000\n",
            "22        Jan    17      102.0         85.000000\n",
            "24  Katarzyna    18       68.0         56.666667\n"
          ]
        }
      ]
    },
    {
      "cell_type": "code",
      "source": [
        "df.sort_values(by=\"Punktacja\", ascending=False, inplace=True)\n",
        "print(df)"
      ],
      "metadata": {
        "colab": {
          "base_uri": "https://localhost:8080/"
        },
        "id": "-ROkJMRrSP7C",
        "outputId": "e330859d-a812-45a3-b3c3-729df29cd1c4"
      },
      "execution_count": 28,
      "outputs": [
        {
          "output_type": "stream",
          "name": "stdout",
          "text": [
            "         Imię  Wiek  Punktacja  Wynik procentowy\n",
            "12     Hubert    15      120.0        100.000000\n",
            "6      Tomasz    16      112.0         93.333333\n",
            "4        Anna    14      110.0         91.666667\n",
            "7    Weronika    17      104.0         86.666667\n",
            "22        Jan    17      102.0         85.000000\n",
            "21    Urszula    14      102.0         85.000000\n",
            "15      Filip    16      100.0         83.333333\n",
            "16    Ewelina    17       98.0         81.666667\n",
            "8     Nikodem    17       97.0         80.833333\n",
            "11   Gabriela    16       92.0         76.666667\n",
            "14     Oliwia    14       84.0         70.000000\n",
            "20        Iga    15       77.0         64.166667\n",
            "13    Zuzanna    13       70.0         58.333333\n",
            "24  Katarzyna    18       68.0         56.666667\n",
            "17   Karolina    14       63.0         52.500000\n",
            "10      Jakub    16       61.0         50.833333\n",
            "3      Patryk    15       52.0         43.333333\n",
            "1   Magdalena    18       52.0         43.333333\n",
            "0      Łukasz    18       51.0         42.500000\n",
            "2    Radosław    15       46.0         38.333333\n",
            "18     Xawery    17       39.0         32.500000\n"
          ]
        }
      ]
    },
    {
      "cell_type": "code",
      "source": [
        "df[\"Zakwalifikowany\"] = df[\"Wynik procentowy\"] >= 70\n",
        "print(df)"
      ],
      "metadata": {
        "colab": {
          "base_uri": "https://localhost:8080/"
        },
        "id": "dcpwQCjjSkk3",
        "outputId": "dac487dc-86a5-4e09-bd56-31edc42b4a62"
      },
      "execution_count": 33,
      "outputs": [
        {
          "output_type": "stream",
          "name": "stdout",
          "text": [
            "         Imię  Wiek  Punktacja  Wynik procentowy  Zakwalifikowany\n",
            "12     Hubert    15      120.0        100.000000             True\n",
            "6      Tomasz    16      112.0         93.333333             True\n",
            "4        Anna    14      110.0         91.666667             True\n",
            "7    Weronika    17      104.0         86.666667             True\n",
            "22        Jan    17      102.0         85.000000             True\n",
            "21    Urszula    14      102.0         85.000000             True\n",
            "15      Filip    16      100.0         83.333333             True\n",
            "16    Ewelina    17       98.0         81.666667             True\n",
            "8     Nikodem    17       97.0         80.833333             True\n",
            "11   Gabriela    16       92.0         76.666667             True\n",
            "14     Oliwia    14       84.0         70.000000             True\n",
            "20        Iga    15       77.0         64.166667            False\n",
            "13    Zuzanna    13       70.0         58.333333            False\n",
            "24  Katarzyna    18       68.0         56.666667            False\n",
            "17   Karolina    14       63.0         52.500000            False\n",
            "10      Jakub    16       61.0         50.833333            False\n",
            "3      Patryk    15       52.0         43.333333            False\n",
            "1   Magdalena    18       52.0         43.333333            False\n",
            "0      Łukasz    18       51.0         42.500000            False\n",
            "2    Radosław    15       46.0         38.333333            False\n",
            "18     Xawery    17       39.0         32.500000            False\n"
          ]
        }
      ]
    },
    {
      "cell_type": "code",
      "source": [
        "zestawienie = df.groupby([\"Zakwalifikowany\", \"Wiek\"])[[\"Punktacja\", \"Wynik procentowy\"]]\\\n",
        ".agg([\"count\", \"min\", \"max\", \"mean\", \"median\"])\n",
        "print(zestawienie)"
      ],
      "metadata": {
        "colab": {
          "base_uri": "https://localhost:8080/"
        },
        "id": "SynJgfVxUNDg",
        "outputId": "35284654-7f27-43e5-9b00-4a0521b271ee"
      },
      "execution_count": 36,
      "outputs": [
        {
          "output_type": "stream",
          "name": "stdout",
          "text": [
            "                     Punktacja                                   \\\n",
            "                         count    min    max        mean median   \n",
            "Zakwalifikowany Wiek                                              \n",
            "False           13           1   70.0   70.0   70.000000   70.0   \n",
            "                14           1   63.0   63.0   63.000000   63.0   \n",
            "                15           3   46.0   77.0   58.333333   52.0   \n",
            "                16           1   61.0   61.0   61.000000   61.0   \n",
            "                17           1   39.0   39.0   39.000000   39.0   \n",
            "                18           3   51.0   68.0   57.000000   52.0   \n",
            "True            14           3   84.0  110.0   98.666667  102.0   \n",
            "                15           1  120.0  120.0  120.000000  120.0   \n",
            "                16           3   92.0  112.0  101.333333  100.0   \n",
            "                17           4   97.0  104.0  100.250000  100.0   \n",
            "\n",
            "                     Wynik procentowy                                      \\\n",
            "                                count         min         max        mean   \n",
            "Zakwalifikowany Wiek                                                        \n",
            "False           13                  1   58.333333   58.333333   58.333333   \n",
            "                14                  1   52.500000   52.500000   52.500000   \n",
            "                15                  3   38.333333   64.166667   48.611111   \n",
            "                16                  1   50.833333   50.833333   50.833333   \n",
            "                17                  1   32.500000   32.500000   32.500000   \n",
            "                18                  3   42.500000   56.666667   47.500000   \n",
            "True            14                  3   70.000000   91.666667   82.222222   \n",
            "                15                  1  100.000000  100.000000  100.000000   \n",
            "                16                  3   76.666667   93.333333   84.444444   \n",
            "                17                  4   80.833333   86.666667   83.541667   \n",
            "\n",
            "                                  \n",
            "                          median  \n",
            "Zakwalifikowany Wiek              \n",
            "False           13     58.333333  \n",
            "                14     52.500000  \n",
            "                15     43.333333  \n",
            "                16     50.833333  \n",
            "                17     32.500000  \n",
            "                18     43.333333  \n",
            "True            14     85.000000  \n",
            "                15    100.000000  \n",
            "                16     83.333333  \n",
            "                17     83.333333  \n"
          ]
        }
      ]
    },
    {
      "cell_type": "code",
      "source": [
        "df_zakwalifikowani = df[df[\"Zakwalifikowany\"]]\n",
        "\n",
        "df_zakwalifikowani.drop(\"Zakwalifikowany\", axis=1, inplace=True)\n",
        "df_zakwalifikowani.to_excel(\"zakwalifikowani.xlsx\")\n",
        "print(df_zakwalifikowani)"
      ],
      "metadata": {
        "colab": {
          "base_uri": "https://localhost:8080/"
        },
        "id": "RRXxzwRQV7Sq",
        "outputId": "a509132e-2299-498e-b694-cc7451a81241"
      },
      "execution_count": 40,
      "outputs": [
        {
          "output_type": "stream",
          "name": "stdout",
          "text": [
            "        Imię  Wiek  Punktacja  Wynik procentowy\n",
            "12    Hubert    15      120.0        100.000000\n",
            "6     Tomasz    16      112.0         93.333333\n",
            "4       Anna    14      110.0         91.666667\n",
            "7   Weronika    17      104.0         86.666667\n",
            "22       Jan    17      102.0         85.000000\n",
            "21   Urszula    14      102.0         85.000000\n",
            "15     Filip    16      100.0         83.333333\n",
            "16   Ewelina    17       98.0         81.666667\n",
            "8    Nikodem    17       97.0         80.833333\n",
            "11  Gabriela    16       92.0         76.666667\n",
            "14    Oliwia    14       84.0         70.000000\n"
          ]
        },
        {
          "output_type": "stream",
          "name": "stderr",
          "text": [
            "<ipython-input-40-7ee4944c6f84>:3: SettingWithCopyWarning: \n",
            "A value is trying to be set on a copy of a slice from a DataFrame\n",
            "\n",
            "See the caveats in the documentation: https://pandas.pydata.org/pandas-docs/stable/user_guide/indexing.html#returning-a-view-versus-a-copy\n",
            "  df_zakwalifikowani.drop(\"Zakwalifikowany\", axis=1, inplace=True)\n"
          ]
        }
      ]
    },
    {
      "cell_type": "code",
      "source": [
        "df_niezakwalifikowani = df[~df[\"Zakwalifikowany\"]]\n",
        "\n",
        "df_niezakwalifikowani.drop(\"Zakwalifikowany\", axis=1, inplace=True)\n",
        "df_niezakwalifikowani.to_excel(\"niezakwalifikowani.xlsx\")\n",
        "print(df_niezakwalifikowani)"
      ],
      "metadata": {
        "colab": {
          "base_uri": "https://localhost:8080/"
        },
        "id": "TK1Tvk9gXVpO",
        "outputId": "72a3bbbc-88c9-4b13-e35d-ebc6216d76f9"
      },
      "execution_count": 41,
      "outputs": [
        {
          "output_type": "stream",
          "name": "stdout",
          "text": [
            "         Imię  Wiek  Punktacja  Wynik procentowy\n",
            "20        Iga    15       77.0         64.166667\n",
            "13    Zuzanna    13       70.0         58.333333\n",
            "24  Katarzyna    18       68.0         56.666667\n",
            "17   Karolina    14       63.0         52.500000\n",
            "10      Jakub    16       61.0         50.833333\n",
            "3      Patryk    15       52.0         43.333333\n",
            "1   Magdalena    18       52.0         43.333333\n",
            "0      Łukasz    18       51.0         42.500000\n",
            "2    Radosław    15       46.0         38.333333\n",
            "18     Xawery    17       39.0         32.500000\n"
          ]
        },
        {
          "output_type": "stream",
          "name": "stderr",
          "text": [
            "<ipython-input-41-2f64cee15226>:3: SettingWithCopyWarning: \n",
            "A value is trying to be set on a copy of a slice from a DataFrame\n",
            "\n",
            "See the caveats in the documentation: https://pandas.pydata.org/pandas-docs/stable/user_guide/indexing.html#returning-a-view-versus-a-copy\n",
            "  df_niezakwalifikowani.drop(\"Zakwalifikowany\", axis=1, inplace=True)\n"
          ]
        }
      ]
    }
  ]
}